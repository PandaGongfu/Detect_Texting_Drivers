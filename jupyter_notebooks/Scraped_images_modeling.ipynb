{
 "cells": [
  {
   "cell_type": "code",
   "execution_count": 2,
   "metadata": {
    "collapsed": false
   },
   "outputs": [
    {
     "name": "stderr",
     "output_type": "stream",
     "text": [
      "/Users/PandaGongfu/anaconda/lib/python3.5/site-packages/sklearn/cross_validation.py:44: DeprecationWarning: This module was deprecated in version 0.18 in favor of the model_selection module into which all the refactored classes and functions are moved. Also note that the interface of the new CV iterators are different from that of this module. This module will be removed in 0.20.\n",
      "  \"This module will be removed in 0.20.\", DeprecationWarning)\n",
      "/Users/PandaGongfu/anaconda/lib/python3.5/site-packages/sklearn/learning_curve.py:23: DeprecationWarning: This module was deprecated in version 0.18 in favor of the model_selection module into which all the functions are moved. This module will be removed in 0.20\n",
      "  DeprecationWarning)\n"
     ]
    }
   ],
   "source": [
    "import numpy as np\n",
    "import matplotlib.pyplot as plt\n",
    "%matplotlib inline\n",
    "\n",
    "import pickle\n",
    "\n",
    "from sklearn.ensemble import RandomForestClassifier, GradientBoostingClassifier\n",
    "from sklearn.linear_model import LogisticRegression\n",
    "from sklearn.naive_bayes import GaussianNB\n",
    "from sklearn.svm import SVC\n",
    "from sklearn.metrics import accuracy_score, classification_report\n",
    "from sklearn.metrics import roc_auc_score, roc_curve\n",
    "from sklearn.learning_curve import learning_curve\n",
    "from sklearn.model_selection import train_test_split\n",
    "\n",
    "from sklearn.cluster import MiniBatchKMeans\n",
    "\n",
    "import xgboost as xgb"
   ]
  },
  {
   "cell_type": "code",
   "execution_count": 3,
   "metadata": {
    "collapsed": false
   },
   "outputs": [],
   "source": [
    "texting_features = pickle.load(open('data/texting.pickle', 'rb'))\n",
    "driving_features = pickle.load(open('data/driving.pickle', 'rb'))\n",
    "all_features = texting_features + driving_features\n",
    "labels = ['texting']*len(texting_features) + ['driving']*len(driving_features)"
   ]
  },
  {
   "cell_type": "code",
   "execution_count": 30,
   "metadata": {
    "collapsed": false
   },
   "outputs": [],
   "source": [
    "def train_test_val_split_ids(m, test_size=0.2):\n",
    "    test_m = round(m*test_size)\n",
    "    training_ids = np.random.choice(m, m-test_m, replace=False)\n",
    "    test_ids = np.array(list(set(range(m)) - set(training_ids)))\n",
    "    return training_ids, test_ids\n",
    "N_Clusters = 10\n",
    "cluster_model = MiniBatchKMeans(n_clusters=N_Clusters)\n",
    "\n",
    "training_ids, test_ids = train_test_val_split_ids(len(labels), test_size=0.3)\n",
    "training_features = [all_features[t_id] for t_id in training_ids]\n",
    "\n",
    "training_features_unstacked = np.vstack(training_features)\n",
    "cluster_model.fit(training_features_unstacked)\n",
    "\n",
    "bow = [cluster_model.predict(sift_feature) for sift_feature in all_features]\n",
    "bow_hist = np.array(\n",
    "    [np.bincount(code_words, minlength=N_Clusters) for code_words in bow])\n"
   ]
  },
  {
   "cell_type": "code",
   "execution_count": 33,
   "metadata": {
    "collapsed": false,
    "scrolled": false
   },
   "outputs": [
    {
     "name": "stdout",
     "output_type": "stream",
     "text": [
      "Naive Bayes\n",
      "Accuracy: 0.7200\n",
      "             precision    recall  f1-score   support\n",
      "\n",
      "    driving       0.90      0.41      0.56        22\n",
      "    texting       0.68      0.96      0.79        28\n",
      "\n",
      "avg / total       0.77      0.72      0.69        50\n",
      "\n",
      "SVM\n",
      "Accuracy: 0.4400\n",
      "             precision    recall  f1-score   support\n",
      "\n",
      "    driving       0.44      1.00      0.61        22\n",
      "    texting       0.00      0.00      0.00        28\n",
      "\n",
      "avg / total       0.19      0.44      0.27        50\n",
      "\n",
      "Random Forest\n",
      "Accuracy: 0.6200\n",
      "             precision    recall  f1-score   support\n",
      "\n",
      "    driving       0.55      0.73      0.63        22\n",
      "    texting       0.71      0.54      0.61        28\n",
      "\n",
      "avg / total       0.64      0.62      0.62        50\n",
      "\n",
      "Logistic\n",
      "Accuracy: 0.6200\n",
      "             precision    recall  f1-score   support\n",
      "\n",
      "    driving       0.55      0.73      0.63        22\n",
      "    texting       0.71      0.54      0.61        28\n",
      "\n",
      "avg / total       0.64      0.62      0.62        50\n",
      "\n",
      "GBboost\n",
      "Accuracy: 0.5600\n",
      "             precision    recall  f1-score   support\n",
      "\n",
      "    driving       0.50      0.59      0.54        22\n",
      "    texting       0.62      0.54      0.58        28\n",
      "\n",
      "avg / total       0.57      0.56      0.56        50\n",
      "\n"
     ]
    },
    {
     "name": "stderr",
     "output_type": "stream",
     "text": [
      "/Users/PandaGongfu/anaconda/lib/python3.5/site-packages/sklearn/metrics/classification.py:1113: UndefinedMetricWarning: Precision and F-score are ill-defined and being set to 0.0 in labels with no predicted samples.\n",
      "  'precision', 'predicted', average, warn_for)\n"
     ]
    },
    {
     "name": "stdout",
     "output_type": "stream",
     "text": [
      "XGBoost\n",
      "Accuracy: 0.7000\n",
      "             precision    recall  f1-score   support\n",
      "\n",
      "    driving       0.65      0.68      0.67        22\n",
      "    texting       0.74      0.71      0.73        28\n",
      "\n",
      "avg / total       0.70      0.70      0.70        50\n",
      "\n"
     ]
    }
   ],
   "source": [
    "X = bow_hist\n",
    "y = np.array(labels)\n",
    "\n",
    "X_train = X[training_ids, :]\n",
    "X_test = X[test_ids, :]\n",
    "y_train = y[training_ids]\n",
    "y_test = y[test_ids]\n",
    "\n",
    "nb = GaussianNB()\n",
    "svc = SVC(probability=True)\n",
    "rfc = RandomForestClassifier()\n",
    "logit = LogisticRegression()\n",
    "gbtr = GradientBoostingClassifier()\n",
    "gbm = xgb.XGBClassifier(max_depth=5, n_estimators=500, learning_rate=0.1)\n",
    "\n",
    "model_names = ['Naive Bayes', 'SVM', 'Random Forest', 'Logistic', 'GBboost','XGBoost']\n",
    "models = [nb, svc, rfc, logit, gbtr, gbm]\n",
    "for name, model in zip(model_names, models):\n",
    "    model.fit(X_train, y_train)\n",
    "\n",
    "    print(name)\n",
    "    print('Accuracy: %6.4f' % accuracy_score(model.predict(X_test), y_test))\n",
    "    print(classification_report(y_test, model.predict(X_test)))"
   ]
  },
  {
   "cell_type": "code",
   "execution_count": null,
   "metadata": {
    "collapsed": true
   },
   "outputs": [],
   "source": [
    "def convert_y(y_str):\n",
    "    return 1 if y_str=='texting' else 0\n",
    "\n",
    "y_test = list(map(convert_y, y_test))\n",
    "y_train = list(map(convert_y, y_train))"
   ]
  },
  {
   "cell_type": "code",
   "execution_count": 58,
   "metadata": {
    "collapsed": false,
    "scrolled": false
   },
   "outputs": [
    {
     "name": "stdout",
     "output_type": "stream",
     "text": [
      "AUC Score\n",
      "Naive Bayes: 0.7143\n",
      "Random Forest: 0.7427\n",
      "Logistic: 0.6932\n",
      "XGBoost: 0.7484\n"
     ]
    },
    {
     "data": {
      "image/png": "[encoded data removed]",
      "text/plain": [
       "<matplotlib.figure.Figure at 0x10559d978>"
      ]
     },
     "metadata": {},
     "output_type": "display_data"
    }
   ],
   "source": [
    "def plot_ROC_curve(models, model_names, X_train, y_train, X_test, y_test):\n",
    "\n",
    "    print('AUC Score')\n",
    "    for name, model in zip(model_names, models):\n",
    "        model.fit(X_train, y_train)\n",
    "        pred_probs = model.predict_proba(X_test)\n",
    "\n",
    "        fpr, tpr, thresholds = roc_curve(y_test, pred_probs[:, 1])\n",
    "        plt.plot(fpr, tpr, label=name);\n",
    "        plt.legend(loc='best');\n",
    "        print(name + ': %6.4f' % roc_auc_score(y_test, pred_probs[:, 1]))\n",
    "    plt.plot(fpr, fpr, 'r--');\n",
    "    plt.xlabel(\"False Positive Rate (1 - Specificity)\");\n",
    "    plt.ylabel(\"True Positive Rate (Sensitivity)\");\n",
    "\n",
    "nb = GaussianNB()\n",
    "rfc = RandomForestClassifier()\n",
    "logit = LogisticRegression()\n",
    "gbm = xgb.XGBClassifier(max_depth=5, n_estimators=500, learning_rate=0.1)\n",
    "\n",
    "model_names = ['Naive Bayes', 'Random Forest', 'Logistic', 'XGBoost']\n",
    "models = [nb, rfc, logit, gbm]\n",
    "\n",
    "plot_ROC_curve(models, model_names, X_train, y_train, X_test, y_test)"
   ]
  },
  {
   "cell_type": "code",
   "execution_count": null,
   "metadata": {
    "collapsed": true
   },
   "outputs": [],
   "source": []
  },
  {
   "cell_type": "code",
   "execution_count": null,
   "metadata": {
    "collapsed": false
   },
   "outputs": [],
   "source": []
  },
  {
   "cell_type": "code",
   "execution_count": 53,
   "metadata": {
    "collapsed": false
   },
   "outputs": [],
   "source": [
    "\n",
    "\n"
   ]
  }
 ],
 "metadata": {
  "kernelspec": {
   "display_name": "Python [Root]",
   "language": "python",
   "name": "Python [Root]"
  },
  "language_info": {
   "codemirror_mode": {
    "name": "ipython",
    "version": 3
   },
   "file_extension": ".py",
   "mimetype": "text/x-python",
   "name": "python",
   "nbconvert_exporter": "python",
   "pygments_lexer": "ipython3",
   "version": "3.5.2"
  }
 },
 "nbformat": 4,
 "nbformat_minor": 0
}
