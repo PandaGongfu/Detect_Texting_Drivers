{
 "cells": [
  {
   "cell_type": "code",
   "execution_count": 91,
   "metadata": {
    "collapsed": false
   },
   "outputs": [],
   "source": [
    "import numpy as np\n",
    "import matplotlib.pyplot as plt\n",
    "%matplotlib inline\n",
    "\n",
    "import pickle\n",
    "\n",
    "from sklearn.ensemble import RandomForestClassifier, GradientBoostingClassifier\n",
    "from sklearn.linear_model import LogisticRegression\n",
    "from sklearn.naive_bayes import GaussianNB\n",
    "from sklearn.svm import SVC\n",
    "from sklearn.metrics import accuracy_score, classification_report\n",
    "from sklearn.metrics import roc_auc_score, roc_curve\n",
    "from sklearn.learning_curve import learning_curve\n",
    "from sklearn.model_selection import train_test_split\n",
    "\n",
    "from sklearn.externals import joblib\n",
    "from sklearn.cluster import MiniBatchKMeans\n",
    "\n",
    "import xgboost as xgb"
   ]
  },
  {
   "cell_type": "markdown",
   "metadata": {},
   "source": [
    "## read sift features"
   ]
  },
  {
   "cell_type": "code",
   "execution_count": 33,
   "metadata": {
    "collapsed": false
   },
   "outputs": [],
   "source": [
    "texting_features_1 = pickle.load(open('data/texting_1.pickle', 'rb'))\n",
    "texting_features_2 = pickle.load(open('data/texting_2.pickle', 'rb'))\n",
    "driving_features_1 = pickle.load(open('data/driving_1.pickle', 'rb'))\n",
    "driving_features_2 = pickle.load(open('data/driving_2.pickle', 'rb'))\n",
    "texting_features = texting_features_1 + texting_features_2\n",
    "driving_features = driving_features_1 + driving_features_2"
   ]
  },
  {
   "cell_type": "code",
   "execution_count": 34,
   "metadata": {
    "collapsed": false
   },
   "outputs": [],
   "source": [
    "all_features = texting_features + driving_features\n",
    "labels = ['texting']*len(texting_features) + ['driving']*len(driving_features)"
   ]
  },
  {
   "cell_type": "markdown",
   "metadata": {},
   "source": [
    "## try K=100 clusters"
   ]
  },
  {
   "cell_type": "code",
   "execution_count": 83,
   "metadata": {
    "collapsed": false
   },
   "outputs": [],
   "source": [
    "def train_test_val_split_ids(m, test_size=0.2):\n",
    "    test_m = round(m*test_size)\n",
    "    training_ids = np.random.choice(m, m-test_m, replace=False)\n",
    "    test_ids = np.array(list(set(range(m)) - set(training_ids)))\n",
    "    return training_ids, test_ids\n",
    "N_Clusters = 100\n",
    "cluster_model = MiniBatchKMeans(n_clusters=N_Clusters)\n",
    "\n",
    "training_ids, test_ids = train_test_val_split_ids(len(labels), test_size=0.3)\n",
    "training_features = [all_features[t_id] for t_id in training_ids]\n",
    "\n",
    "training_features_unstacked = np.vstack(training_features)\n",
    "cluster_model.fit(training_features_unstacked)\n",
    "\n",
    "bow = [cluster_model.predict(sift_feature) for sift_feature in all_features]\n",
    "bow_hist = np.array(\n",
    "    [np.bincount(code_words, minlength=N_Clusters) for code_words in bow])"
   ]
  },
  {
   "cell_type": "code",
   "execution_count": 88,
   "metadata": {
    "collapsed": false
   },
   "outputs": [
    {
     "data": {
      "text/plain": [
       "0.90240349599417335"
      ]
     },
     "execution_count": 88,
     "metadata": {},
     "output_type": "execute_result"
    }
   ],
   "source": [
    "rfc = RandomForestClassifier()\n",
    "rfc.fit(X_train, y_train)\n",
    "rfc.score(X_test, y_test)"
   ]
  },
  {
   "cell_type": "code",
   "execution_count": 110,
   "metadata": {
    "collapsed": false
   },
   "outputs": [
    {
     "name": "stdout",
     "output_type": "stream",
     "text": [
      "Naive Bayes\n",
      "Accuracy: 0.6231\n",
      "             precision    recall  f1-score   support\n",
      "\n",
      "    driving       0.61      0.73      0.66      1399\n",
      "    texting       0.65      0.51      0.57      1347\n",
      "\n",
      "avg / total       0.63      0.62      0.62      2746\n",
      "\n",
      "SVM\n",
      "Accuracy: 0.8689\n",
      "             precision    recall  f1-score   support\n",
      "\n",
      "    driving       0.80      1.00      0.89      1399\n",
      "    texting       1.00      0.73      0.85      1347\n",
      "\n",
      "avg / total       0.90      0.87      0.87      2746\n",
      "\n",
      "Random Forest\n",
      "Accuracy: 0.8908\n",
      "             precision    recall  f1-score   support\n",
      "\n",
      "    driving       0.90      0.88      0.89      1399\n",
      "    texting       0.88      0.90      0.89      1347\n",
      "\n",
      "avg / total       0.89      0.89      0.89      2746\n",
      "\n",
      "Logistic\n",
      "Accuracy: 0.7487\n",
      "             precision    recall  f1-score   support\n",
      "\n",
      "    driving       0.76      0.75      0.75      1399\n",
      "    texting       0.74      0.75      0.74      1347\n",
      "\n",
      "avg / total       0.75      0.75      0.75      2746\n",
      "\n",
      "GBboost\n",
      "Accuracy: 0.8307\n",
      "             precision    recall  f1-score   support\n",
      "\n",
      "    driving       0.86      0.80      0.83      1399\n",
      "    texting       0.81      0.86      0.83      1347\n",
      "\n",
      "avg / total       0.83      0.83      0.83      2746\n",
      "\n",
      "XGBoost\n",
      "Accuracy: 0.8205\n",
      "             precision    recall  f1-score   support\n",
      "\n",
      "    driving       0.86      0.78      0.82      1399\n",
      "    texting       0.79      0.86      0.83      1347\n",
      "\n",
      "avg / total       0.82      0.82      0.82      2746\n",
      "\n"
     ]
    }
   ],
   "source": [
    "X = bow_hist\n",
    "y = np.array(labels)\n",
    "\n",
    "X_train = X[training_ids, :]\n",
    "X_test = X[test_ids, :]\n",
    "y_train = y[training_ids]\n",
    "y_test = y[test_ids]\n",
    "\n",
    "nb = GaussianNB()\n",
    "svc = SVC()\n",
    "rfc = RandomForestClassifier()\n",
    "logit = LogisticRegression()\n",
    "gbtr = GradientBoostingClassifier()\n",
    "gbm = xgb.XGBClassifier()\n",
    "\n",
    "model_names = ['Naive Bayes', 'SVM', 'Random Forest', 'Logistic', 'GBboost','XGBoost']\n",
    "models = [nb, svc, rfc, logit, gbtr, gbm]\n",
    "for name, model in zip(model_names, models):\n",
    "    model.fit(X_train, y_train)\n",
    "\n",
    "    print(name)\n",
    "    print('Accuracy: %6.4f' % accuracy_score(model.predict(X_test), y_test))\n",
    "    print(classification_report(y_test, model.predict(X_test)))"
   ]
  },
  {
   "cell_type": "markdown",
   "metadata": {},
   "source": [
    "## Use Randome Forest Classifier to find the number of clusters"
   ]
  },
  {
   "cell_type": "code",
   "execution_count": 85,
   "metadata": {
    "collapsed": false
   },
   "outputs": [
    {
     "name": "stdout",
     "output_type": "stream",
     "text": [
      "20\n",
      "0.896576839039\n",
      "50\n",
      "0.922432629279\n",
      "100\n",
      "0.946103423161\n",
      "200\n",
      "0.962490895849\n",
      "300\n",
      "0.964311726147\n",
      "500\n"
     ]
    },
    {
     "name": "stderr",
     "output_type": "stream",
     "text": [
      "/Users/PandaGongfu/anaconda/lib/python3.5/site-packages/sklearn/cluster/k_means_.py:1382: RuntimeWarning: init_size=300 should be larger than k=500. Setting it to 3*k\n",
      "  init_size=init_size)\n"
     ]
    },
    {
     "name": "stdout",
     "output_type": "stream",
     "text": [
      "0.966860888565\n"
     ]
    }
   ],
   "source": [
    "def best_K(Ks, all_features, labels):     \n",
    "    training_ids, test_ids = train_test_val_split_ids(len(labels), test_size=0.3)  \n",
    "    training_features = [all_features[t_id] for t_id in training_ids]\n",
    "    training_features_unstacked = np.vstack(training_features)\n",
    "\n",
    "    for K in Ks:\n",
    "        print(K)\n",
    "        cluster_model = MiniBatchKMeans(n_clusters=K)\n",
    "        cluster_model.fit(training_features_unstacked)\n",
    "\n",
    "        bow = [cluster_model.predict(sift_feature) for sift_feature in all_features]\n",
    "        bow_hist = np.array(\n",
    "            [np.bincount(code_words, minlength=K) for code_words in bow])\n",
    "        \n",
    "        X = bow_hist\n",
    "        y = np.array(labels)\n",
    "            \n",
    "        X_train = X[training_ids, :]\n",
    "        X_test = X[test_ids, :]\n",
    "        y_train = y[training_ids]\n",
    "        y_test = y[test_ids]\n",
    "        score = get_rfc_score(X_train, y_train, X_test, y_test)\n",
    "        print(score)\n",
    "\n",
    "        \n",
    "def get_rfc_score(X_train, y_train, X_test, y_test):\n",
    "    rfc = RandomForestClassifier()\n",
    "    model.fit(X_train, y_train)\n",
    "    score = accuracy_score(model.predict(X_test), y_test)\n",
    "    return score\n",
    "\n",
    "K_vals = [20, 50, 100, 200, 300, 500]\n",
    "\n",
    "best_K(K_vals, all_features, labels)"
   ]
  },
  {
   "cell_type": "markdown",
   "metadata": {},
   "source": [
    "## Use 300 clusters because any additional clusters have insigificant improvement on accuracy score but substantial impact on computational time"
   ]
  },
  {
   "cell_type": "code",
   "execution_count": 113,
   "metadata": {
    "collapsed": false
   },
   "outputs": [],
   "source": [
    "N_Clusters_final = 300\n",
    "cluster_model_final = MiniBatchKMeans(n_clusters=N_Clusters_final)\n",
    "\n",
    "cluster_model_final.fit(training_features_unstacked)\n",
    "bow_final = [cluster_model_final.predict(sift_feature) for sift_feature in all_features]\n",
    "bow_hist_final = np.array(\n",
    "    [np.bincount(code_words, minlength=N_Clusters_final) for code_words in bow_final])"
   ]
  },
  {
   "cell_type": "code",
   "execution_count": null,
   "metadata": {
    "collapsed": false
   },
   "outputs": [],
   "source": []
  },
  {
   "cell_type": "code",
   "execution_count": 114,
   "metadata": {
    "collapsed": false
   },
   "outputs": [
    {
     "name": "stdout",
     "output_type": "stream",
     "text": [
      "Naive Bayes\n",
      "Accuracy: 0.6723\n",
      "             precision    recall  f1-score   support\n",
      "\n",
      "    driving       0.66      0.75      0.70      1399\n",
      "    texting       0.69      0.59      0.64      1347\n",
      "\n",
      "avg / total       0.68      0.67      0.67      2746\n",
      "\n",
      "SVM\n",
      "Accuracy: 0.8791\n",
      "             precision    recall  f1-score   support\n",
      "\n",
      "    driving       0.81      1.00      0.89      1399\n",
      "    texting       1.00      0.75      0.86      1347\n",
      "\n",
      "avg / total       0.90      0.88      0.88      2746\n",
      "\n",
      "Random Forest\n",
      "Accuracy: 0.8798\n",
      "             precision    recall  f1-score   support\n",
      "\n",
      "    driving       0.88      0.88      0.88      1399\n",
      "    texting       0.88      0.88      0.88      1347\n",
      "\n",
      "avg / total       0.88      0.88      0.88      2746\n",
      "\n",
      "Logistic\n",
      "Accuracy: 0.8321\n",
      "             precision    recall  f1-score   support\n",
      "\n",
      "    driving       0.84      0.83      0.83      1399\n",
      "    texting       0.82      0.84      0.83      1347\n",
      "\n",
      "avg / total       0.83      0.83      0.83      2746\n",
      "\n",
      "GBboost\n",
      "Accuracy: 0.8685\n",
      "             precision    recall  f1-score   support\n",
      "\n",
      "    driving       0.89      0.85      0.87      1399\n",
      "    texting       0.85      0.89      0.87      1347\n",
      "\n",
      "avg / total       0.87      0.87      0.87      2746\n",
      "\n",
      "XGBoost\n",
      "Accuracy: 0.8656\n",
      "             precision    recall  f1-score   support\n",
      "\n",
      "    driving       0.89      0.85      0.87      1399\n",
      "    texting       0.85      0.89      0.87      1347\n",
      "\n",
      "avg / total       0.87      0.87      0.87      2746\n",
      "\n"
     ]
    }
   ],
   "source": [
    "X = bow_hist_final\n",
    "y = np.array(labels)\n",
    "\n",
    "X_train = X[training_ids, :]\n",
    "X_test = X[test_ids, :]\n",
    "y_train = y[training_ids]\n",
    "y_test = y[test_ids]\n",
    "\n",
    "nb = GaussianNB()\n",
    "svc = SVC()\n",
    "rfc = RandomForestClassifier()\n",
    "logit = LogisticRegression()\n",
    "gbtr = GradientBoostingClassifier()\n",
    "gbm = xgb.XGBClassifier()\n",
    "\n",
    "model_names = ['Naive Bayes', 'SVM', 'Random Forest', 'Logistic', 'GBboost','XGBoost']\n",
    "models = [nb, svc, rfc, logit, gbtr, gbm]\n",
    "for name, model in zip(model_names, models):\n",
    "    model.fit(X_train, y_train)\n",
    "\n",
    "    print(name)\n",
    "    print('Accuracy: %6.4f' % accuracy_score(model.predict(X_test), y_test))\n",
    "    print(classification_report(y_test, model.predict(X_test)))"
   ]
  },
  {
   "cell_type": "code",
   "execution_count": null,
   "metadata": {
    "collapsed": true
   },
   "outputs": [],
   "source": [
    "\n"
   ]
  },
  {
   "cell_type": "code",
   "execution_count": 136,
   "metadata": {
    "collapsed": true
   },
   "outputs": [],
   "source": [
    "def convert_y(y_str):\n",
    "    return 1 if y_str=='texting' else 0\n",
    "\n",
    "y_test = list(map(convert_y, y_test))\n",
    "y_train = list(map(convert_y, y_train))"
   ]
  },
  {
   "cell_type": "code",
   "execution_count": 116,
   "metadata": {
    "collapsed": false
   },
   "outputs": [
    {
     "name": "stdout",
     "output_type": "stream",
     "text": [
      "AUC Score\n",
      "SVM: 0.9956\n",
      "Random Forest: 0.9474\n",
      "Logistic: 0.9146\n",
      "XGBoost: 0.9432\n"
     ]
    },
    {
     "data": {
      "image/png": "[encoded data removed]",
      "text/plain": [
       "<matplotlib.figure.Figure at 0x196db36a0>"
      ]
     },
     "metadata": {},
     "output_type": "display_data"
    }
   ],
   "source": [
    "def plot_ROC_curve(models, model_names, X_train, y_train, X_test, y_test):\n",
    "    print('AUC Score')\n",
    "    for name, model in zip(model_names, models):\n",
    "        model.fit(X_train, y_train)\n",
    "        pred_probs = model.predict_proba(X_test)\n",
    "\n",
    "        fpr, tpr, thresholds = roc_curve(y_test, pred_probs[:, 1])\n",
    "        plt.plot(fpr, tpr, label=name);\n",
    "        plt.legend(loc='best');\n",
    "        print(name + ': %6.4f' % roc_auc_score(y_test, pred_probs[:, 1]))\n",
    "    plt.plot(fpr, fpr, 'r--');\n",
    "    plt.xlabel(\"False Positive Rate\");\n",
    "    plt.ylabel(\"True Positive Rate (Sensitivity)\");\n",
    "\n",
    "\n",
    "svc = SVC(probability=True)\n",
    "rfc = RandomForestClassifier()\n",
    "logit = LogisticRegression()\n",
    "gbm = xgb.XGBClassifier()\n",
    "\n",
    "model_names = ['SVM', 'Random Forest', 'Logistic Regression', 'XGBoost']\n",
    "models = [svc, rfc, logit, gbm]\n",
    "\n",
    "plot_ROC_curve(models, model_names, X_train, y_train, X_test, y_test)"
   ]
  },
  {
   "cell_type": "code",
   "execution_count": null,
   "metadata": {
    "collapsed": true
   },
   "outputs": [],
   "source": []
  },
  {
   "cell_type": "markdown",
   "metadata": {},
   "source": [
    "## Grid Search best parameters for SVM, RF and XGBoost"
   ]
  },
  {
   "cell_type": "code",
   "execution_count": 121,
   "metadata": {
    "collapsed": false
   },
   "outputs": [],
   "source": [
    "from sklearn import linear_model\n",
    "from sklearn import grid_search\n",
    "def model_grid_search(model, X_train, X_test, y_train, y_test, params):\n",
    "    grid_searcher = grid_search.GridSearchCV(model, params)\n",
    "    grid_searcher.fit(X_train, y_train)\n",
    "    print('best_param: ', grid_searcher.best_params_)\n",
    "    best_model = grid_searcher.best_estimator_\n",
    "    print('best_score: ', best_model.score(X_test,y_test))"
   ]
  },
  {
   "cell_type": "code",
   "execution_count": 122,
   "metadata": {
    "collapsed": false
   },
   "outputs": [
    {
     "name": "stdout",
     "output_type": "stream",
     "text": [
      "best_param:  {'C': 3}\n",
      "best_score:  0.88201019665\n"
     ]
    }
   ],
   "source": [
    "svc = SVC()\n",
    "parameters ={ \"C\": [1,3,5]}\n",
    "model_grid_search(svc, X_train, X_test, y_train, y_test, parameters)"
   ]
  },
  {
   "cell_type": "code",
   "execution_count": 125,
   "metadata": {
    "collapsed": false
   },
   "outputs": [
    {
     "name": "stdout",
     "output_type": "stream",
     "text": [
      "best_param:  {'max_depth': 5, 'n_estimators': 100}\n",
      "best_score:  0.892206846322\n"
     ]
    }
   ],
   "source": [
    "rfc = RandomForestClassifier()\n",
    "\n",
    "parameters ={ \"n_estimators\": [30,100],\n",
    "              \"max_depth\": [3,4,5]}\n",
    "model_grid_search(gbm, X_train, X_test, y_train, y_test, parameters)"
   ]
  },
  {
   "cell_type": "code",
   "execution_count": 126,
   "metadata": {
    "collapsed": false
   },
   "outputs": [
    {
     "name": "stdout",
     "output_type": "stream",
     "text": [
      "best_param:  {'max_depth': 5, 'n_estimators': 500, 'learning_rate': 0.1}\n",
      "best_score:  0.965404224326\n"
     ]
    }
   ],
   "source": [
    "gbm = xgb.XGBClassifier()\n",
    "\n",
    "parameters ={ \"n_estimators\": [100,300,500],\n",
    "              \"learning_rate\": [0.03, 0.05, 0.1],\n",
    "              \"max_depth\": [3,4,5]}\n",
    "model_grid_search(gbm, X_train, X_test, y_train, y_test, parameters)"
   ]
  },
  {
   "cell_type": "markdown",
   "metadata": {},
   "source": [
    "## final model run with the optimal parameters"
   ]
  },
  {
   "cell_type": "code",
   "execution_count": 129,
   "metadata": {
    "collapsed": false,
    "scrolled": false
   },
   "outputs": [
    {
     "name": "stdout",
     "output_type": "stream",
     "text": [
      "SVM\n",
      "Accuracy: 0.8820\n",
      "             precision    recall  f1-score   support\n",
      "\n",
      "          0       0.81      1.00      0.90      1399\n",
      "          1       1.00      0.76      0.86      1347\n",
      "\n",
      "avg / total       0.90      0.88      0.88      2746\n",
      "\n",
      "Random Forest\n",
      "Accuracy: 0.9599\n",
      "             precision    recall  f1-score   support\n",
      "\n",
      "          0       0.95      0.97      0.96      1399\n",
      "          1       0.97      0.95      0.96      1347\n",
      "\n",
      "avg / total       0.96      0.96      0.96      2746\n",
      "\n",
      "XGBoost\n",
      "Accuracy: 0.9654\n",
      "             precision    recall  f1-score   support\n",
      "\n",
      "          0       0.97      0.96      0.97      1399\n",
      "          1       0.96      0.97      0.96      1347\n",
      "\n",
      "avg / total       0.97      0.97      0.97      2746\n",
      "\n"
     ]
    }
   ],
   "source": [
    "svc = SVC(C=3)\n",
    "rfc = RandomForestClassifier(n_estimators=100)\n",
    "gbm = xgb.XGBClassifier(max_depth=5, n_estimators=500, learning_rate=0.1)\n",
    "\n",
    "model_names = ['SVM', 'Random Forest', 'XGBoost']\n",
    "models = [svc, rfc, gbm]\n",
    "for name, model in zip(model_names, models):\n",
    "    model.fit(X_train, y_train)\n",
    "\n",
    "    print(name)\n",
    "    print('Accuracy: %6.4f' % accuracy_score(model.predict(X_test), y_test))\n",
    "    print(classification_report(y_test, model.predict(X_test)))"
   ]
  },
  {
   "cell_type": "code",
   "execution_count": null,
   "metadata": {
    "collapsed": true
   },
   "outputs": [],
   "source": []
  },
  {
   "cell_type": "code",
   "execution_count": 139,
   "metadata": {
    "collapsed": false
   },
   "outputs": [
    {
     "name": "stdout",
     "output_type": "stream",
     "text": [
      "AUC Score\n",
      "SVM: 0.9959\n",
      "Random Forest: 0.9890\n",
      "XGBoost: 0.9146\n"
     ]
    },
    {
     "data": {
      "image/png": "[encoded data removed]",
      "text/plain": [
       "<matplotlib.figure.Figure at 0x1a518e278>"
      ]
     },
     "metadata": {},
     "output_type": "display_data"
    }
   ],
   "source": [
    "svc = SVC(C=3, probability=True)\n",
    "rfc = RandomForestClassifier(n_estimators=100)\n",
    "gbm = xgb.XGBClassifier(max_depth=5, n_estimators=500, learning_rate=0.1)\n",
    "\n",
    "model_names = ['SVM', 'Random Forest', 'XGBoost']\n",
    "models = [svc, rfc, logit, gbm]\n",
    "\n",
    "plot_ROC_curve(models, model_names, X_train, y_train, X_test, y_test)"
   ]
  },
  {
   "cell_type": "markdown",
   "metadata": {},
   "source": [
    "## Pickle final model"
   ]
  },
  {
   "cell_type": "code",
   "execution_count": 135,
   "metadata": {
    "collapsed": false
   },
   "outputs": [
    {
     "data": {
      "text/plain": [
       "['classification_model_final.pkl']"
      ]
     },
     "execution_count": 135,
     "metadata": {},
     "output_type": "execute_result"
    }
   ],
   "source": [
    "joblib.dump(cluster_model_final, 'cluster_model_final.pkl')\n",
    "y_train = y[training_ids]\n",
    "rfc.fit(X_train, y_train)\n",
    "joblib.dump(rfc, 'classification_model_final.pkl')"
   ]
  }
 ],
 "metadata": {
  "kernelspec": {
   "display_name": "Python [Root]",
   "language": "python",
   "name": "Python [Root]"
  },
  "language_info": {
   "codemirror_mode": {
    "name": "ipython",
    "version": 3
   },
   "file_extension": ".py",
   "mimetype": "text/x-python",
   "name": "python",
   "nbconvert_exporter": "python",
   "pygments_lexer": "ipython3",
   "version": "3.5.2"
  }
 },
 "nbformat": 4,
 "nbformat_minor": 0
}
